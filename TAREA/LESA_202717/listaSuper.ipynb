{
 "cells": [
  {
   "cell_type": "markdown",
   "metadata": {},
   "source": [
    "# Lista de Supermercado\n",
    "\n",
    "> Un administrador de artiuclos de supermercado"
   ]
  },
  {
   "cell_type": "code",
   "execution_count": 1,
   "metadata": {},
   "outputs": [],
   "source": [
    "#| default_exp listaSupermercado   "
   ]
  },
  {
   "cell_type": "code",
   "execution_count": 2,
   "metadata": {},
   "outputs": [
    {
     "ename": "ModuleNotFoundError",
     "evalue": "No module named 'nbdevFDD'",
     "output_type": "error",
     "traceback": [
      "\u001b[0;31m---------------------------------------------------------------------------\u001b[0m",
      "\u001b[0;31mModuleNotFoundError\u001b[0m                       Traceback (most recent call last)",
      "Cell \u001b[0;32mIn[2], line 3\u001b[0m\n\u001b[1;32m      1\u001b[0m \u001b[38;5;66;03m#| hide\u001b[39;00m\n\u001b[1;32m      2\u001b[0m \u001b[38;5;28;01mfrom\u001b[39;00m \u001b[38;5;21;01mnbdev\u001b[39;00m\u001b[38;5;21;01m.\u001b[39;00m\u001b[38;5;21;01mshowdoc\u001b[39;00m \u001b[38;5;28;01mimport\u001b[39;00m \u001b[38;5;241m*\u001b[39m\n\u001b[0;32m----> 3\u001b[0m \u001b[38;5;28;01mfrom\u001b[39;00m \u001b[38;5;21;01mnbdevFDD\u001b[39;00m\u001b[38;5;21;01m.\u001b[39;00m\u001b[38;5;21;01marticulo\u001b[39;00m \u001b[38;5;28;01mimport\u001b[39;00m \u001b[38;5;241m*\u001b[39m\n\u001b[1;32m      4\u001b[0m \u001b[38;5;28;01mfrom\u001b[39;00m \u001b[38;5;21;01mdatetime\u001b[39;00m \u001b[38;5;28;01mimport\u001b[39;00m datetime\n",
      "\u001b[0;31mModuleNotFoundError\u001b[0m: No module named 'nbdevFDD'"
     ]
    }
   ],
   "source": [
    "#| hide\n",
    "from nbdev.showdoc import *\n",
    "from nbdevFDD.articulo import *\n",
    "from datetime import datetime"
   ]
  },
  {
   "cell_type": "code",
   "execution_count": null,
   "metadata": {},
   "outputs": [],
   "source": [
    "#| export\n",
    "class listaSupermercado:\n",
    "    \"La lista se inicializa con una lista vacía que se llenará manualmente con articulos\"\n",
    "    def __init__(self) -> None:\n",
    "        self.listaSuper = []\n",
    "    \n",
    "    def agrega_articulo(self,\n",
    "                 nombre:str, # nombre del articulo\n",
    "                 cantidad:int, # cantidad del articulo\n",
    "                 agregado:bool=False, # indicador si fue o no agregado\n",
    "                 ) -> bool: #Regresa True si el articulo se agregó exitosamente, False en caso contrario\n",
    "        \"Crea un objeto tipo Articulo, lo agrega a la lista interna y ordena con base en la fecha de entrega\"\n",
    "        articulo = Articulo(nombre=nombre, cantidad=cantidad, agregado=agregado)\n",
    "        self.listaSuper.append(articulo)\n",
    "\n",
    "    def imprime_completo (self) -> str:\n",
    "        \"Imprime todos los articulo contenidas en la lista, tanto los agregados como los faltantes\"\n",
    "        for articulo in self.listaSuper:\n",
    "            print(articulo)\n",
    "    \n",
    "    def imprime_faltantes(self) ->str:\n",
    "        \"Imprime los articulos en la lista que su atributo 'agregado' esté en False\"\n",
    "        for articulo in self.listaSuper:\n",
    "            if articulo.agregado == False:\n",
    "                print(articulo)\n",
    "    \n",
    "    __repr__ = imprime_completo\n",
    "\n",
    "    def articulo_agregado(self,\n",
    "                         nombre:str # Nombre del articulo que se busca\n",
    "                         ) -> bool: # Regresa True si el articulo esta en la lista y la marcó como agregado\n",
    "        \"Busca una tarea por su nombre y cambia su atributo 'completado' a True\"\n",
    "        for articulo in self.listaSuper:\n",
    "            if articulo.nombre == nombre:\n",
    "                articulo.completado = True\n",
    "                return True\n",
    "        return False"
   ]
  },
  {
   "cell_type": "code",
   "execution_count": null,
   "metadata": {},
   "outputs": [],
   "source": [
    "show_doc(listaSupermercado)"
   ]
  },
  {
   "cell_type": "code",
   "execution_count": null,
   "metadata": {},
   "outputs": [],
   "source": [
    "show_doc(listaSupermercado.agrega_articulo)"
   ]
  },
  {
   "cell_type": "code",
   "execution_count": null,
   "metadata": {},
   "outputs": [],
   "source": [
    "show_doc(listaSupermercado.imprime_completo)"
   ]
  },
  {
   "cell_type": "code",
   "execution_count": null,
   "metadata": {},
   "outputs": [],
   "source": [
    "show_doc(listaSupermercado.imprime_faltantes)"
   ]
  },
  {
   "cell_type": "code",
   "execution_count": null,
   "metadata": {},
   "outputs": [],
   "source": [
    "show_doc(listaSupermercado.articulo_agregado)"
   ]
  },
  {
   "cell_type": "markdown",
   "metadata": {},
   "source": [
    "## Pruebas de la clase Lista de Supermercado\n",
    "Para crear una lista de supermercado:"
   ]
  },
  {
   "cell_type": "code",
   "execution_count": null,
   "metadata": {},
   "outputs": [],
   "source": [
    "listaSuper = listaSupermercado()"
   ]
  },
  {
   "cell_type": "markdown",
   "metadata": {},
   "source": [
    "Ahora, algunos articulo:"
   ]
  },
  {
   "cell_type": "code",
   "execution_count": null,
   "metadata": {},
   "outputs": [],
   "source": [
    "listaSuper.agrega_articulo(nombre=\"Platano\", cantidad=12)\n",
    "listaSuper.agrega_articulo(titulo=\"Huevo\", fecha_entrega=100)\n",
    "listaSuper.agrega_articulo(titulo=\"Jamon\", fecha_entrega=50)"
   ]
  },
  {
   "cell_type": "markdown",
   "metadata": {},
   "source": [
    "Imprimimos la lista para ver los elementos:"
   ]
  },
  {
   "cell_type": "code",
   "execution_count": null,
   "metadata": {},
   "outputs": [],
   "source": [
    "listaSuper.imprime_completo()"
   ]
  },
  {
   "cell_type": "markdown",
   "metadata": {},
   "source": [
    "Probemos imprimir la lista completa y lugeo la de faltantes:"
   ]
  },
  {
   "cell_type": "code",
   "execution_count": null,
   "metadata": {},
   "outputs": [],
   "source": [
    "listaSuper.imprime_completo()"
   ]
  },
  {
   "cell_type": "code",
   "execution_count": null,
   "metadata": {},
   "outputs": [],
   "source": [
    "listaSuper.imprime_faltantes()"
   ]
  },
  {
   "cell_type": "markdown",
   "metadata": {},
   "source": [
    "Ahora, probemos marcar como completado una tarea que no existe:"
   ]
  },
  {
   "cell_type": "code",
   "execution_count": null,
   "metadata": {},
   "outputs": [],
   "source": [
    "listaSuper.tarea_completada(nombre=\"Nintendo Switch\")"
   ]
  },
  {
   "cell_type": "markdown",
   "metadata": {},
   "source": [
    "Ahora, marquemos un articulo como agregado:"
   ]
  },
  {
   "cell_type": "code",
   "execution_count": null,
   "metadata": {},
   "outputs": [],
   "source": [
    "listaSuper.articulo_agregado(nombre=\"Platano\")"
   ]
  },
  {
   "cell_type": "code",
   "execution_count": null,
   "metadata": {},
   "outputs": [],
   "source": [
    "#| hide\n",
    "import nbdev; nbdev.nbdev_export()"
   ]
  }
 ],
 "metadata": {
  "kernelspec": {
   "display_name": "python3",
   "language": "python",
   "name": "python3"
  },
  "language_info": {
   "codemirror_mode": {
    "name": "ipython",
    "version": 3
   },
   "file_extension": ".py",
   "mimetype": "text/x-python",
   "name": "python",
   "nbconvert_exporter": "python",
   "pygments_lexer": "ipython3",
   "version": "3.10.12"
  }
 },
 "nbformat": 4,
 "nbformat_minor": 4
}
