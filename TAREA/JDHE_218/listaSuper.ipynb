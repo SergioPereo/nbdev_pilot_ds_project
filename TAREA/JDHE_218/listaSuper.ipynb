{
 "cells": [
  {
   "cell_type": "markdown",
   "metadata": {},
   "source": [
    "# Lista de super\n",
    "\n",
    "> Lista de super para comprar el mandado"
   ]
  },
  {
   "cell_type": "code",
   "execution_count": null,
   "metadata": {},
   "outputs": [],
   "source": [
    "#| default_exp lista"
   ]
  },
  {
   "cell_type": "code",
   "execution_count": 3,
   "metadata": {},
   "outputs": [],
   "source": [
    "#| hide\n",
    "from nbdev.showdoc import *\n",
    "from articulo import *\n",
    "from datetime import datetime"
   ]
  },
  {
   "cell_type": "code",
   "execution_count": 4,
   "metadata": {},
   "outputs": [],
   "source": [
    "#| export\n",
    "class Lista:\n",
    "    \"La lista se inicializa con una lista vacía que se llenará manualmente con articulos\"\n",
    "    def __init__(self) -> None:\n",
    "        self.lista_articulos = []\n",
    "    \n",
    "    def agrega_articulo (self,\n",
    "                      titulo:str, # Nombre del articulo\n",
    "                      prioridad_de_compra:int, # Que tan urgente es comprarlo\n",
    "                      descripcion:str='' # Informacion adicional sobre el articulo\n",
    "                      ) -> bool: #Regresa True si la tarea se agregó exitosamente, False en caso contrario\n",
    "        \"Crea un objeto tipo Articulo, lo agrega a la lista interna y ordena con base en la priodiad\"\n",
    "        articulo = Articulo(titulo=titulo, prioridad_de_compra=prioridad_de_compra, descripcion=descripcion)\n",
    "        self.lista_articulos.append(articulo)\n",
    "        self.lista_articulos = sorted(self.lista_articulos, key=lambda x: x.prioridad_de_compra)\n",
    "        \n",
    "    def imprime_completo (self) -> str:\n",
    "        \"Imprime todos los articulos contenidos en la lista, tanto los comprados como los que no\"\n",
    "        for articulo in self.lista_articulos:\n",
    "            print(articulo)\n",
    "    \n",
    "    def imprime_faltantes(self) ->str:\n",
    "        \"Imprime los articulos en la lista que su atributo 'comprado' esté en False\"\n",
    "        for articulo in self.lista_articulos:\n",
    "            if articulo.comprado == False:\n",
    "                print(articulo)\n",
    "    \n",
    "    __repr__ = imprime_completo\n",
    "    \n",
    "    def articulo_comprado(self,\n",
    "                         titulo:str # Título del articulo que se busca\n",
    "                         ) -> bool: # Regresa True si el articulo esta en la lista y la marcó como comprado\n",
    "        \"Busca un articulo por su nombre y cambia su atributo 'comprado' a True\"\n",
    "        for articulo in self.lista_articulos:\n",
    "            if articulo.titulo == titulo:\n",
    "                articulo.completado = True\n",
    "                return True\n",
    "        return False"
   ]
  },
  {
   "cell_type": "code",
   "execution_count": 5,
   "metadata": {},
   "outputs": [
    {
     "data": {
      "text/markdown": [
       "---\n",
       "\n",
       "### Lista\n",
       "\n",
       ">      Lista ()\n",
       "\n",
       "La lista se inicializa con una lista vacía que se llenará manualmente con articulos"
      ],
      "text/plain": [
       "---\n",
       "\n",
       "### Lista\n",
       "\n",
       ">      Lista ()\n",
       "\n",
       "La lista se inicializa con una lista vacía que se llenará manualmente con articulos"
      ]
     },
     "execution_count": 5,
     "metadata": {},
     "output_type": "execute_result"
    }
   ],
   "source": [
    "show_doc(Lista)"
   ]
  },
  {
   "cell_type": "code",
   "execution_count": 6,
   "metadata": {},
   "outputs": [
    {
     "data": {
      "text/markdown": [
       "---\n",
       "\n",
       "### Lista.agrega_articulo\n",
       "\n",
       ">      Lista.agrega_articulo (titulo:str, prioridad_de_compra:int,\n",
       ">                             descripcion:str='')\n",
       "\n",
       "Crea un objeto tipo Articulo, lo agrega a la lista interna y ordena con base en la priodiad\n",
       "\n",
       "|    | **Type** | **Default** | **Details** |\n",
       "| -- | -------- | ----------- | ----------- |\n",
       "| titulo | str |  | Nombre del articulo |\n",
       "| prioridad_de_compra | int |  | Que tan urgente es comprarlo |\n",
       "| descripcion | str |  | Informacion adicional sobre el articulo |\n",
       "| **Returns** | **bool** |  | **Regresa True si la tarea se agregó exitosamente, False en caso contrario** |"
      ],
      "text/plain": [
       "---\n",
       "\n",
       "### Lista.agrega_articulo\n",
       "\n",
       ">      Lista.agrega_articulo (titulo:str, prioridad_de_compra:int,\n",
       ">                             descripcion:str='')\n",
       "\n",
       "Crea un objeto tipo Articulo, lo agrega a la lista interna y ordena con base en la priodiad\n",
       "\n",
       "|    | **Type** | **Default** | **Details** |\n",
       "| -- | -------- | ----------- | ----------- |\n",
       "| titulo | str |  | Nombre del articulo |\n",
       "| prioridad_de_compra | int |  | Que tan urgente es comprarlo |\n",
       "| descripcion | str |  | Informacion adicional sobre el articulo |\n",
       "| **Returns** | **bool** |  | **Regresa True si la tarea se agregó exitosamente, False en caso contrario** |"
      ]
     },
     "execution_count": 6,
     "metadata": {},
     "output_type": "execute_result"
    }
   ],
   "source": [
    "show_doc(Lista.agrega_articulo)"
   ]
  },
  {
   "cell_type": "code",
   "execution_count": 7,
   "metadata": {},
   "outputs": [
    {
     "data": {
      "text/markdown": [
       "---\n",
       "\n",
       "### Lista.imprime_completo\n",
       "\n",
       ">      Lista.imprime_completo ()\n",
       "\n",
       "Imprime todos los articulos contenidos en la lista, tanto los comprados como los que no"
      ],
      "text/plain": [
       "---\n",
       "\n",
       "### Lista.imprime_completo\n",
       "\n",
       ">      Lista.imprime_completo ()\n",
       "\n",
       "Imprime todos los articulos contenidos en la lista, tanto los comprados como los que no"
      ]
     },
     "execution_count": 7,
     "metadata": {},
     "output_type": "execute_result"
    }
   ],
   "source": [
    "show_doc(Lista.imprime_completo)"
   ]
  },
  {
   "cell_type": "code",
   "execution_count": 8,
   "metadata": {},
   "outputs": [
    {
     "data": {
      "text/markdown": [
       "---\n",
       "\n",
       "### Lista.imprime_faltantes\n",
       "\n",
       ">      Lista.imprime_faltantes ()\n",
       "\n",
       "Imprime los articulos en la lista que su atributo 'comprado' esté en False"
      ],
      "text/plain": [
       "---\n",
       "\n",
       "### Lista.imprime_faltantes\n",
       "\n",
       ">      Lista.imprime_faltantes ()\n",
       "\n",
       "Imprime los articulos en la lista que su atributo 'comprado' esté en False"
      ]
     },
     "execution_count": 8,
     "metadata": {},
     "output_type": "execute_result"
    }
   ],
   "source": [
    "show_doc(Lista.imprime_faltantes)"
   ]
  },
  {
   "cell_type": "code",
   "execution_count": 10,
   "metadata": {},
   "outputs": [
    {
     "data": {
      "text/markdown": [
       "---\n",
       "\n",
       "### Lista.articulo_comprado\n",
       "\n",
       ">      Lista.articulo_comprado (titulo:str)\n",
       "\n",
       "Busca un articulo por su nombre y cambia su atributo 'comprado' a True\n",
       "\n",
       "|    | **Type** | **Details** |\n",
       "| -- | -------- | ----------- |\n",
       "| titulo | str | Título del articulo que se busca |\n",
       "| **Returns** | **bool** | **Regresa True si el articulo esta en la lista y la marcó como comprado** |"
      ],
      "text/plain": [
       "---\n",
       "\n",
       "### Lista.articulo_comprado\n",
       "\n",
       ">      Lista.articulo_comprado (titulo:str)\n",
       "\n",
       "Busca un articulo por su nombre y cambia su atributo 'comprado' a True\n",
       "\n",
       "|    | **Type** | **Details** |\n",
       "| -- | -------- | ----------- |\n",
       "| titulo | str | Título del articulo que se busca |\n",
       "| **Returns** | **bool** | **Regresa True si el articulo esta en la lista y la marcó como comprado** |"
      ]
     },
     "execution_count": 10,
     "metadata": {},
     "output_type": "execute_result"
    }
   ],
   "source": [
    "show_doc(Lista.articulo_comprado)"
   ]
  },
  {
   "cell_type": "markdown",
   "metadata": {},
   "source": [
    "## Pruebas de la clase Lista"
   ]
  },
  {
   "cell_type": "markdown",
   "metadata": {},
   "source": [
    "Para crear un administrador de tareas:"
   ]
  },
  {
   "cell_type": "code",
   "execution_count": 11,
   "metadata": {},
   "outputs": [],
   "source": [
    "lista = Lista()"
   ]
  },
  {
   "cell_type": "markdown",
   "metadata": {},
   "source": [
    "Ahora, agreguemos algunas tareas:"
   ]
  },
  {
   "cell_type": "code",
   "execution_count": 13,
   "metadata": {},
   "outputs": [],
   "source": [
    "lista.agrega_articulo(titulo=\"Aguacate\", prioridad_de_compra=8, descripcion=\"Aguacate Hass ni muy maduro ni muy verde un kilo\")\n",
    "lista.agrega_articulo(titulo=\"Medio kilo de carne\", prioridad_de_compra=1, descripcion=\"Carne de res, de preferencia molida\")\n",
    "lista.agrega_articulo(titulo=\"Cebolla\", prioridad_de_compra=4, descripcion=\"Cebolla morada un cuarto\")"
   ]
  },
  {
   "cell_type": "markdown",
   "metadata": {},
   "source": [
    "Imprimimos la lista para ver los elementos:"
   ]
  },
  {
   "cell_type": "code",
   "execution_count": 14,
   "metadata": {},
   "outputs": [
    {
     "name": "stdout",
     "output_type": "stream",
     "text": [
      "Articulo: Medio kilo de carne. \n",
      "Descripcion: Carne de res, de preferencia molida. \n",
      "Priodidad de compra: 1. \n",
      "Completada: False\n",
      "Articulo: Cebolla. \n",
      "Descripcion: Cebolla morada un cuarto. \n",
      "Priodidad de compra: 4. \n",
      "Completada: False\n",
      "Articulo: Aguacate. \n",
      "Descripcion: Aguacate Hass ni muy maduro ni muy verde un kilo. \n",
      "Priodidad de compra: 8. \n",
      "Completada: False\n"
     ]
    }
   ],
   "source": [
    "lista.imprime_completo()"
   ]
  },
  {
   "cell_type": "markdown",
   "metadata": {},
   "source": [
    "Ahora, marquemos una tarea como completada:"
   ]
  },
  {
   "cell_type": "code",
   "execution_count": 15,
   "metadata": {},
   "outputs": [
    {
     "data": {
      "text/plain": [
       "True"
      ]
     },
     "execution_count": 15,
     "metadata": {},
     "output_type": "execute_result"
    }
   ],
   "source": [
    "lista.articulo_comprado(\"Aguacate\")"
   ]
  },
  {
   "cell_type": "markdown",
   "metadata": {},
   "source": [
    "Probemos imprimir tanto la lista completa como la lista de faltantes:"
   ]
  },
  {
   "cell_type": "code",
   "execution_count": 16,
   "metadata": {},
   "outputs": [
    {
     "name": "stdout",
     "output_type": "stream",
     "text": [
      "Articulo: Medio kilo de carne. \n",
      "Descripcion: Carne de res, de preferencia molida. \n",
      "Priodidad de compra: 1. \n",
      "Completada: False\n",
      "Articulo: Cebolla. \n",
      "Descripcion: Cebolla morada un cuarto. \n",
      "Priodidad de compra: 4. \n",
      "Completada: False\n",
      "Articulo: Aguacate. \n",
      "Descripcion: Aguacate Hass ni muy maduro ni muy verde un kilo. \n",
      "Priodidad de compra: 8. \n",
      "Completada: False\n"
     ]
    }
   ],
   "source": [
    "lista.imprime_completo()"
   ]
  },
  {
   "cell_type": "code",
   "execution_count": 17,
   "metadata": {},
   "outputs": [
    {
     "name": "stdout",
     "output_type": "stream",
     "text": [
      "Articulo: Medio kilo de carne. \n",
      "Descripcion: Carne de res, de preferencia molida. \n",
      "Priodidad de compra: 1. \n",
      "Completada: False\n",
      "Articulo: Cebolla. \n",
      "Descripcion: Cebolla morada un cuarto. \n",
      "Priodidad de compra: 4. \n",
      "Completada: False\n",
      "Articulo: Aguacate. \n",
      "Descripcion: Aguacate Hass ni muy maduro ni muy verde un kilo. \n",
      "Priodidad de compra: 8. \n",
      "Completada: False\n"
     ]
    }
   ],
   "source": [
    "lista.imprime_faltantes()"
   ]
  },
  {
   "cell_type": "markdown",
   "metadata": {},
   "source": [
    "Ahora, probemos marcar como completado una tarea que no existe:"
   ]
  },
  {
   "cell_type": "code",
   "execution_count": 18,
   "metadata": {},
   "outputs": [
    {
     "data": {
      "text/plain": [
       "True"
      ]
     },
     "execution_count": 18,
     "metadata": {},
     "output_type": "execute_result"
    }
   ],
   "source": [
    "lista.articulo_comprado(\"Cebolla\")"
   ]
  },
  {
   "cell_type": "code",
   "execution_count": 19,
   "metadata": {},
   "outputs": [],
   "source": [
    "#| hide\n",
    "import nbdev; nbdev.nbdev_export()"
   ]
  }
 ],
 "metadata": {
  "kernelspec": {
   "display_name": "python3",
   "language": "python",
   "name": "python3"
  },
  "language_info": {
   "codemirror_mode": {
    "name": "ipython",
    "version": 3
   },
   "file_extension": ".py",
   "mimetype": "text/x-python",
   "name": "python",
   "nbconvert_exporter": "python",
   "pygments_lexer": "ipython3",
   "version": "3.10.12"
  }
 },
 "nbformat": 4,
 "nbformat_minor": 4
}
