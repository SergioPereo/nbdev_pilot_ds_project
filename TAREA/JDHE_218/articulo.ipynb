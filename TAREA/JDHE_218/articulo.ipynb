{
 "cells": [
  {
   "cell_type": "markdown",
   "metadata": {},
   "source": [
    "# Articulo\n",
    "\n",
    "> Objeto Articulo para implementar en una lista de super"
   ]
  },
  {
   "cell_type": "code",
   "execution_count": null,
   "metadata": {},
   "outputs": [],
   "source": [
    "#| default_exp articulo"
   ]
  },
  {
   "cell_type": "code",
   "execution_count": 2,
   "metadata": {},
   "outputs": [],
   "source": [
    "#| hide\n",
    "from nbdev.showdoc import *\n",
    "from fastcore.test import *\n",
    "from fastcore.basics import *"
   ]
  },
  {
   "cell_type": "code",
   "execution_count": 3,
   "metadata": {},
   "outputs": [],
   "source": [
    "#| export\n",
    "class Articulo:\n",
    "    \"Objeto que contiene un título, una descripción, un estado (completado o no completado)\"\n",
    "    def __init__(self,\n",
    "                 titulo:str, # Nombre del articulo\n",
    "                 prioridad_de_compra:int, # Que tan urgente es comprarlo\n",
    "                 descripcion:str='' # Informacion adicional sobre el articulo\n",
    "                 ) -> None:\n",
    "        self.titulo = titulo\n",
    "        self.descripcion = descripcion\n",
    "        self.prioridad_de_compra = prioridad_de_compra\n",
    "        self.comprado = False\n",
    "    \n",
    "    def __str__(self) -> str:\n",
    "        \"Regresa la informacion completa sobre la tarea en formato String\"\n",
    "        return f\"Articulo: {self.titulo}. \\nDescripcion: {self.descripcion}. \\nPriodidad de compra: {self.prioridad_de_compra}. \\nCompletada: {self.comprado}\"\n",
    "    __repr__ = __str__"
   ]
  },
  {
   "cell_type": "code",
   "execution_count": 4,
   "metadata": {},
   "outputs": [
    {
     "data": {
      "text/markdown": [
       "---\n",
       "\n",
       "### Articulo\n",
       "\n",
       ">      Articulo (titulo:str, prioridad_de_compra:int, descripcion:str='')\n",
       "\n",
       "Objeto que contiene un título, una descripción, un estado (completado o no completado)\n",
       "\n",
       "|    | **Type** | **Default** | **Details** |\n",
       "| -- | -------- | ----------- | ----------- |\n",
       "| titulo | str |  | Nombre del articulo |\n",
       "| prioridad_de_compra | int |  | Que tan urgente es comprarlo |\n",
       "| descripcion | str |  | Informacion adicional sobre el articulo |\n",
       "| **Returns** | **None** |  |  |"
      ],
      "text/plain": [
       "---\n",
       "\n",
       "### Articulo\n",
       "\n",
       ">      Articulo (titulo:str, prioridad_de_compra:int, descripcion:str='')\n",
       "\n",
       "Objeto que contiene un título, una descripción, un estado (completado o no completado)\n",
       "\n",
       "|    | **Type** | **Default** | **Details** |\n",
       "| -- | -------- | ----------- | ----------- |\n",
       "| titulo | str |  | Nombre del articulo |\n",
       "| prioridad_de_compra | int |  | Que tan urgente es comprarlo |\n",
       "| descripcion | str |  | Informacion adicional sobre el articulo |\n",
       "| **Returns** | **None** |  |  |"
      ]
     },
     "execution_count": 4,
     "metadata": {},
     "output_type": "execute_result"
    }
   ],
   "source": [
    "show_doc(Articulo)"
   ]
  },
  {
   "cell_type": "markdown",
   "metadata": {},
   "source": [
    "Prueba de crear una Tarea"
   ]
  },
  {
   "cell_type": "code",
   "execution_count": 6,
   "metadata": {},
   "outputs": [],
   "source": [
    "articulo1 = Articulo(titulo=\"Mayonesa\", prioridad_de_compra=\"5\")"
   ]
  },
  {
   "cell_type": "code",
   "execution_count": 7,
   "metadata": {},
   "outputs": [],
   "source": [
    "#| hide\n",
    "import nbdev; nbdev.nbdev_export()"
   ]
  }
 ],
 "metadata": {
  "kernelspec": {
   "display_name": "python3",
   "language": "python",
   "name": "python3"
  },
  "language_info": {
   "codemirror_mode": {
    "name": "ipython",
    "version": 3
   },
   "file_extension": ".py",
   "mimetype": "text/x-python",
   "name": "python",
   "nbconvert_exporter": "python",
   "pygments_lexer": "ipython3",
   "version": "3.10.12"
  }
 },
 "nbformat": 4,
 "nbformat_minor": 4
}
