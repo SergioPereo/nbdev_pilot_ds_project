{
 "cells": [
  {
   "cell_type": "markdown",
   "metadata": {},
   "source": [
    "# Tarea\n",
    "> Objeto "
   ]
  },
  {
   "cell_type": "code",
   "execution_count": null,
   "metadata": {},
   "outputs": [],
   "source": [
    "#| default_exp tarea"
   ]
  },
  {
   "cell_type": "code",
   "execution_count": null,
   "metadata": {},
   "outputs": [],
   "source": [
    "#| hide\n",
    "from nbdev.showdoc import *\n",
    "from fastcore.test import *\n",
    "from fastcore.basics import *\n",
    "from fastcore.foundation import *\n",
    "from fastcore.xtras import *\n",
    "from fastcore.script import *\n"
   ]
  },
  {
   "cell_type": "markdown",
   "metadata": {},
   "source": []
  },
  {
   "cell_type": "code",
   "execution_count": null,
   "metadata": {},
   "outputs": [],
   "source": [
    "#| export\n",
    "class Tarea:\n",
    "    def __init__(self, nombre:str, #aqui va el nombre\n",
    "                    descripcion:str,  #aqui va la descripcion\n",
    "                    fecha_entrega:str,# aqui la fecha\n",
    "                    entregado:bool# aqui si se entrego o no la cosa \n",
    "                )-> None:\n",
    "        self.nombre = nombre\n",
    "        self.descripcion = descripcion\n",
    "        self.fecha_entrega = fecha_entrega\n",
    "        self.entregado = False\n",
    "\n",
    "    def __str__(self) ->str:\n",
    "        return f\"{self.nombre} {self.descripcion} {self.fecha_entrega} \"\n",
    "    __repr__=__str__\n",
    "    "
   ]
  },
  {
   "cell_type": "code",
   "execution_count": null,
   "metadata": {},
   "outputs": [
    {
     "data": {
      "text/markdown": [
       "---\n",
       "\n",
       "[source](https://github.com/Omarti34/nbdevnuevo/blob/main/nbdevnuevo/tarea.py#L7){target=\"_blank\" style=\"float:right; font-size:smaller\"}\n",
       "\n",
       "### Tarea\n",
       "\n",
       ">      Tarea (nombre:str, descripcion:str, fecha_entrega:str, entregado:bool)\n",
       "\n",
       "Initialize self.  See help(type(self)) for accurate signature.\n",
       "\n",
       "|    | **Type** | **Details** |\n",
       "| -- | -------- | ----------- |\n",
       "| nombre | str | aqui va el nombre |\n",
       "| descripcion | str | aqui va la descripcion |\n",
       "| fecha_entrega | str | aqui la fecha |\n",
       "| entregado | bool | aqui si se entrego o no la cosa |\n",
       "| **Returns** | **None** |  |"
      ],
      "text/plain": [
       "---\n",
       "\n",
       "[source](https://github.com/Omarti34/nbdevnuevo/blob/main/nbdevnuevo/tarea.py#L7){target=\"_blank\" style=\"float:right; font-size:smaller\"}\n",
       "\n",
       "### Tarea\n",
       "\n",
       ">      Tarea (nombre:str, descripcion:str, fecha_entrega:str, entregado:bool)\n",
       "\n",
       "Initialize self.  See help(type(self)) for accurate signature.\n",
       "\n",
       "|    | **Type** | **Details** |\n",
       "| -- | -------- | ----------- |\n",
       "| nombre | str | aqui va el nombre |\n",
       "| descripcion | str | aqui va la descripcion |\n",
       "| fecha_entrega | str | aqui la fecha |\n",
       "| entregado | bool | aqui si se entrego o no la cosa |\n",
       "| **Returns** | **None** |  |"
      ]
     },
     "execution_count": null,
     "metadata": {},
     "output_type": "execute_result"
    }
   ],
   "source": [
    "show_doc(Tarea)"
   ]
  },
  {
   "cell_type": "markdown",
   "metadata": {},
   "source": []
  },
  {
   "cell_type": "code",
   "execution_count": null,
   "metadata": {},
   "outputs": [],
   "source": [
    "#| export\n",
    "import nbdev; nbdev.nbdev_export()"
   ]
  }
 ],
 "metadata": {
  "kernelspec": {
   "display_name": "python3",
   "language": "python",
   "name": "python3"
  }
 },
 "nbformat": 4,
 "nbformat_minor": 4
}
