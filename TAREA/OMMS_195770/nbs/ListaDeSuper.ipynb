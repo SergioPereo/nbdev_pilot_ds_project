{
 "cells": [
  {
   "cell_type": "markdown",
   "metadata": {},
   "source": [
    "# Lista de Supermercado\n",
    "> Objeto "
   ]
  },
  {
   "cell_type": "code",
   "execution_count": null,
   "metadata": {},
   "outputs": [],
   "source": [
    "#| default_exp ListaDeSuper"
   ]
  },
  {
   "cell_type": "code",
   "execution_count": null,
   "metadata": {},
   "outputs": [],
   "source": [
    "#| hide\n",
    "from nbdev.showdoc import *\n",
    "from fastcore.test import *\n",
    "from fastcore.basics import *\n",
    "from fastcore.foundation import *\n",
    "from fastcore.xtras import *\n",
    "from fastcore.script import *\n"
   ]
  },
  {
   "cell_type": "code",
   "execution_count": null,
   "metadata": {},
   "outputs": [],
   "source": [
    "#| export\n",
    "\n",
    "class Articulo:\n",
    "    def __init__(self, nombre: str, #este es el nombre del articulo\n",
    "                    cantidad: int, #esta es la cantidad del articulo\n",
    "                    agregado: bool = False #esto indica si ya fue agregado \n",
    "     ) -> None:\n",
    "        self.nombre = nombre\n",
    "        self.cantidad = cantidad\n",
    "        self.agregado = agregado\n",
    "\n",
    "    def __str__(self) -> str:\n",
    "        estado = 'Agregado' if self.agregado else 'No Agregado'\n",
    "        return f\"Articulo : {self.nombre} (Cantidad: {self.cantidad}) - {estado}\"\n",
    "    __repr__ = __str__"
   ]
  },
  {
   "cell_type": "code",
   "execution_count": null,
   "metadata": {},
   "outputs": [],
   "source": [
    "\n",
    "#| export\n",
    "class ListaDeSupermercado:\n",
    "    def __init__(self) -> None:\n",
    "        self.articulos = []\n",
    "\n",
    "    def agregar_articulo(self, articulo: Articulo) -> None:\n",
    "        self.articulos.append(articulo)\n",
    "\n",
    "    def imprimir_articulos(self) -> None:\n",
    "        for articulo in self.articulos:\n",
    "            print(articulo)\n",
    "\n",
    "    def imprimir_articulos_no_agregados(self) -> None:\n",
    "        for articulo in self.articulos:\n",
    "            if not articulo.agregado:\n",
    "                print(articulo)\n",
    "\n",
    "    "
   ]
  },
  {
   "cell_type": "code",
   "execution_count": null,
   "metadata": {},
   "outputs": [
    {
     "name": "stdout",
     "output_type": "stream",
     "text": [
      "Todos los artículos:\n",
      "Articulo : Manzanas (Cantidad: 5) - No Agregado\n",
      "Articulo : Pan (Cantidad: 1) - Agregado\n",
      "Articulo : Leche (Cantidad: 2) - No Agregado\n",
      "\n",
      "Artículos no agregados:\n",
      "Articulo : Manzanas (Cantidad: 5) - No Agregado\n",
      "Articulo : Leche (Cantidad: 2) - No Agregado\n"
     ]
    }
   ],
   "source": [
    "\n",
    "\n",
    "\n",
    "articulo1 = Articulo(\"Manzanas\", 5)\n",
    "articulo2 = Articulo(\"Pan\", 1, True)\n",
    "articulo3 = Articulo(\"Leche\", 2)\n",
    "lista = ListaDeSupermercado()\n",
    "lista.agregar_articulo(articulo1)\n",
    "lista.agregar_articulo(articulo2)\n",
    "lista.agregar_articulo(articulo3)\n",
    "print(\"Todos los artículos:\")\n",
    "lista.imprimir_articulos()\n",
    "print(\"\\nArtículos no agregados:\")\n",
    "lista.imprimir_articulos_no_agregados()"
   ]
  },
  {
   "cell_type": "code",
   "execution_count": null,
   "metadata": {},
   "outputs": [
    {
     "data": {
      "text/markdown": [
       "---\n",
       "\n",
       "[source](https://github.com/Omarti34/nbdevnuevo/blob/main/nbdevnuevo/tarea.py#L41){target=\"_blank\" style=\"float:right; font-size:smaller\"}\n",
       "\n",
       "### ListaDeSupermercado\n",
       "\n",
       ">      ListaDeSupermercado ()\n",
       "\n",
       "Initialize self.  See help(type(self)) for accurate signature."
      ],
      "text/plain": [
       "---\n",
       "\n",
       "[source](https://github.com/Omarti34/nbdevnuevo/blob/main/nbdevnuevo/tarea.py#L41){target=\"_blank\" style=\"float:right; font-size:smaller\"}\n",
       "\n",
       "### ListaDeSupermercado\n",
       "\n",
       ">      ListaDeSupermercado ()\n",
       "\n",
       "Initialize self.  See help(type(self)) for accurate signature."
      ]
     },
     "execution_count": null,
     "metadata": {},
     "output_type": "execute_result"
    }
   ],
   "source": [
    "show_doc(ListaDeSupermercado)"
   ]
  },
  {
   "cell_type": "markdown",
   "metadata": {},
   "source": []
  },
  {
   "cell_type": "code",
   "execution_count": null,
   "metadata": {},
   "outputs": [],
   "source": [
    "#| export\n",
    "import nbdev; nbdev.nbdev_export()"
   ]
  }
 ],
 "metadata": {
  "kernelspec": {
   "display_name": "python3",
   "language": "python",
   "name": "python3"
  }
 },
 "nbformat": 4,
 "nbformat_minor": 4
}
