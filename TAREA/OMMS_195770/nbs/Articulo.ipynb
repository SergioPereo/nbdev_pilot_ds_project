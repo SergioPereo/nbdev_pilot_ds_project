{
 "cells": [
  {
   "cell_type": "markdown",
   "metadata": {},
   "source": [
    "# Articulo\n",
    "> Objeto "
   ]
  },
  {
   "cell_type": "code",
   "execution_count": null,
   "metadata": {},
   "outputs": [],
   "source": [
    "#| default_exp Articulo"
   ]
  },
  {
   "cell_type": "code",
   "execution_count": null,
   "metadata": {},
   "outputs": [],
   "source": [
    "#| hide\n",
    "from nbdev.showdoc import *\n",
    "from fastcore.test import *\n",
    "from fastcore.basics import *\n",
    "from fastcore.foundation import *\n",
    "from fastcore.xtras import *\n",
    "from fastcore.script import *\n"
   ]
  },
  {
   "cell_type": "markdown",
   "metadata": {},
   "source": []
  },
  {
   "cell_type": "code",
   "execution_count": null,
   "metadata": {},
   "outputs": [],
   "source": [
    "#| export\n",
    "class Articulo:\n",
    "    def __init__(self, nombre: str, #este es el nombre del articulo\n",
    "                 cantidad: int, #esta es la cantidad del articulo\n",
    "                 agregado: bool = False #esto indica si ya fue agregado \n",
    "                 ) -> None:\n",
    "        self.nombre = nombre\n",
    "        self.cantidad = cantidad\n",
    "        self.agregado = agregado\n",
    "\n",
    "    def __str__(self) -> str:\n",
    "        estado = 'Agregado' if self.agregado else 'No Agregado'\n",
    "        return f\"Articulo : {self.nombre} (Cantidad: {self.cantidad}) - {estado}\"\n",
    "    __repr__ = __str__\n",
    "\n",
    "    "
   ]
  },
  {
   "cell_type": "code",
   "execution_count": null,
   "metadata": {},
   "outputs": [
    {
     "data": {
      "text/markdown": [
       "---\n",
       "\n",
       "[source](https://github.com/Omarti34/nbdevnuevo/blob/main/nbdevnuevo/tarea.py#L24){target=\"_blank\" style=\"float:right; font-size:smaller\"}\n",
       "\n",
       "### Articulo\n",
       "\n",
       ">      Articulo (nombre:str, cantidad:int, agregado:bool=False)\n",
       "\n",
       "Initialize self.  See help(type(self)) for accurate signature.\n",
       "\n",
       "|    | **Type** | **Default** | **Details** |\n",
       "| -- | -------- | ----------- | ----------- |\n",
       "| nombre | str |  | este es el nombre del articulo |\n",
       "| cantidad | int |  | esta es la cantidad del articulo |\n",
       "| agregado | bool | False | esto indica si ya fue agregado |\n",
       "| **Returns** | **None** |  |  |"
      ],
      "text/plain": [
       "---\n",
       "\n",
       "[source](https://github.com/Omarti34/nbdevnuevo/blob/main/nbdevnuevo/tarea.py#L24){target=\"_blank\" style=\"float:right; font-size:smaller\"}\n",
       "\n",
       "### Articulo\n",
       "\n",
       ">      Articulo (nombre:str, cantidad:int, agregado:bool=False)\n",
       "\n",
       "Initialize self.  See help(type(self)) for accurate signature.\n",
       "\n",
       "|    | **Type** | **Default** | **Details** |\n",
       "| -- | -------- | ----------- | ----------- |\n",
       "| nombre | str |  | este es el nombre del articulo |\n",
       "| cantidad | int |  | esta es la cantidad del articulo |\n",
       "| agregado | bool | False | esto indica si ya fue agregado |\n",
       "| **Returns** | **None** |  |  |"
      ]
     },
     "execution_count": null,
     "metadata": {},
     "output_type": "execute_result"
    }
   ],
   "source": [
    "show_doc(Articulo)"
   ]
  },
  {
   "cell_type": "code",
   "execution_count": null,
   "metadata": {},
   "outputs": [],
   "source": []
  },
  {
   "cell_type": "markdown",
   "metadata": {},
   "source": []
  },
  {
   "cell_type": "code",
   "execution_count": null,
   "metadata": {},
   "outputs": [],
   "source": [
    "#| export\n",
    "import nbdev; nbdev.nbdev_export()"
   ]
  }
 ],
 "metadata": {
  "kernelspec": {
   "display_name": "python3",
   "language": "python",
   "name": "python3"
  }
 },
 "nbformat": 4,
 "nbformat_minor": 4
}
