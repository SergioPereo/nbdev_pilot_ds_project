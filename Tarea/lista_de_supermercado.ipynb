{
 "cells": [
  {
   "cell_type": "code",
   "execution_count": 5,
   "id": "ebcb61c9-5e38-44b6-b9d1-4d99e06fa349",
   "metadata": {},
   "outputs": [
    {
     "ename": "ModuleNotFoundError",
     "evalue": "No module named 'articulo'",
     "output_type": "error",
     "traceback": [
      "\u001b[0;31m---------------------------------------------------------------------------\u001b[0m",
      "\u001b[0;31mModuleNotFoundError\u001b[0m                       Traceback (most recent call last)",
      "Cell \u001b[0;32mIn[5], line 3\u001b[0m\n\u001b[1;32m      1\u001b[0m \u001b[38;5;66;03m#| export\u001b[39;00m\n\u001b[0;32m----> 3\u001b[0m \u001b[38;5;28;01mfrom\u001b[39;00m \u001b[38;5;21;01marticulo\u001b[39;00m \u001b[38;5;28;01mimport\u001b[39;00m Articulo\n\u001b[1;32m      5\u001b[0m \u001b[38;5;28;01mclass\u001b[39;00m \u001b[38;5;21;01mListaDeSupermercado\u001b[39;00m:\n\u001b[1;32m      6\u001b[0m     \u001b[38;5;28;01mdef\u001b[39;00m \u001b[38;5;21m__init__\u001b[39m(\u001b[38;5;28mself\u001b[39m):\n",
      "\u001b[0;31mModuleNotFoundError\u001b[0m: No module named 'articulo'"
     ]
    }
   ],
   "source": [
    "#| export\n",
    "\n",
    "from articulo import Articulo\n",
    "\n",
    "class ListaDeSupermercado:\n",
    "    def __init__(self):\n",
    "        self.articulos = []\n",
    "\n",
    "    def agregar_articulo(self, articulo):\n",
    "        self.articulos.append(articulo)\n",
    "\n",
    "    def imprimir_articulos(self):\n",
    "        for articulo in self.articulos:\n",
    "            print(articulo)\n",
    "\n",
    "    def imprimir_no_agregados(self):\n",
    "        for articulo in self.articulos:\n",
    "            if not articulo.agregado:\n",
    "                print(articulo)\n"
   ]
  },
  {
   "cell_type": "code",
   "execution_count": null,
   "id": "0502cbaa-c73e-4b82-b1cc-f6633f79dcd6",
   "metadata": {},
   "outputs": [],
   "source": [
    "from nbdev.showdoc import show_doc\n",
    "\n",
    "show_doc(ListaDeSupermercado)\n",
    "show_doc(ListaDeSupermercado.agregar_articulo)\n",
    "show_doc(ListaDeSupermercado.imprimir_articulos)\n",
    "show_doc(ListaDeSupermercado.imprimir_no_agregados)\n",
    "\n",
    "# Ejemplo de uso de la clase ListaDeSupermercado\n",
    "lista = ListaDeSupermercado()\n",
    "lista.agregar_articulo(Articulo(\"Manzanas\", 5))\n",
    "lista.agregar_articulo(Articulo(\"Plátanos\", 3))\n",
    "lista.imprimir_articulos()\n"
   ]
  },
  {
   "cell_type": "code",
   "execution_count": null,
   "id": "06a3ee43-03a0-4cec-a735-4898e6d7db42",
   "metadata": {},
   "outputs": [],
   "source": [
    "import nbdev; nbdev.nbdev_export()\n"
   ]
  }
 ],
 "metadata": {
  "kernelspec": {
   "display_name": "Python 3 (ipykernel)",
   "language": "python",
   "name": "python3"
  },
  "language_info": {
   "codemirror_mode": {
    "name": "ipython",
    "version": 3
   },
   "file_extension": ".py",
   "mimetype": "text/x-python",
   "name": "python",
   "nbconvert_exporter": "python",
   "pygments_lexer": "ipython3",
   "version": "3.10.13"
  }
 },
 "nbformat": 4,
 "nbformat_minor": 5
}
