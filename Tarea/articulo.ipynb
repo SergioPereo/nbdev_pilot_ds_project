{
 "cells": [
  {
   "cell_type": "code",
   "execution_count": 6,
   "id": "40d8ba4b-3e87-4125-afcc-eaebc784302d",
   "metadata": {},
   "outputs": [],
   "source": [
    "#| export\n",
    "\n",
    "class Articulo:\n",
    "    def __init__(self, nombre, cantidad, agregado=False):\n",
    "        self.nombre = nombre\n",
    "        self.cantidad = cantidad\n",
    "        self.agregado = agregado\n",
    "\n",
    "    def marcar_agregado(self):\n",
    "        self.agregado = True\n",
    "\n",
    "    def __repr__(self):\n",
    "        return f\"Articulo(nombre='{self.nombre}', cantidad={self.cantidad}, agregado={self.agregado})\""
   ]
  },
  {
   "cell_type": "code",
   "execution_count": 7,
   "id": "7f11b018-8612-439a-a35a-3d305755186e",
   "metadata": {},
   "outputs": [
    {
     "name": "stdout",
     "output_type": "stream",
     "text": [
      "Articulo(nombre='Manzanas', cantidad=5, agregado=False)\n"
     ]
    }
   ],
   "source": [
    "from nbdev.showdoc import show_doc\n",
    "\n",
    "show_doc(Articulo)\n",
    "\n",
    "# Ejemplo de uso de la clase Articulo\n",
    "articulo1 = Articulo(nombre=\"Manzanas\", cantidad=5)\n",
    "print(articulo1)\n"
   ]
  },
  {
   "cell_type": "code",
   "execution_count": 8,
   "id": "0a8cbf9a-bc66-430d-8574-8aa5efa3ece6",
   "metadata": {},
   "outputs": [],
   "source": [
    "import nbdev; nbdev.nbdev_export()\n"
   ]
  },
  {
   "cell_type": "code",
   "execution_count": null,
   "id": "239a17c5-2fae-4257-ae23-b329170a1133",
   "metadata": {},
   "outputs": [],
   "source": []
  }
 ],
 "metadata": {
  "kernelspec": {
   "display_name": "Python 3 (ipykernel)",
   "language": "python",
   "name": "python3"
  },
  "language_info": {
   "codemirror_mode": {
    "name": "ipython",
    "version": 3
   },
   "file_extension": ".py",
   "mimetype": "text/x-python",
   "name": "python",
   "nbconvert_exporter": "python",
   "pygments_lexer": "ipython3",
   "version": "3.10.13"
  }
 },
 "nbformat": 4,
 "nbformat_minor": 5
}
